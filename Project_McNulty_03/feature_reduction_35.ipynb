{
 "cells": [
  {
   "cell_type": "code",
   "execution_count": 8,
   "metadata": {
    "collapsed": true
   },
   "outputs": [],
   "source": [
    "%matplotlib inline\n",
    "import pickle\n",
    "%run helper_functions.py\n",
    "%run s3.py\n",
    "pd.options.display.max_columns = 1000\n",
    "plt.rcParams[\"figure.figsize\"] = (15,10)\n",
    "from datetime import datetime\n",
    "\n",
    "from sklearn.ensemble import RandomForestClassifier\n",
    "from sklearn.model_selection import train_test_split\n",
    "from sklearn.dummy import DummyClassifier\n",
    "from sklearn.preprocessing import StandardScaler\n",
    "from sqlalchemy import create_engine\n",
    "import psycopg2\n",
    "import os"
   ]
  },
  {
   "cell_type": "markdown",
   "metadata": {},
   "source": [
    "This notebook will select the top 35 features from out dataset.\n",
    "\n",
    "I will rescale the resulting columns - while I am keenly aware this makes no difference to the Random Forest Model, I am just doing it for consistency.\n",
    "\n",
    "I also pickle the scaler as we will be using this in our flask web app to transform the input data."
   ]
  },
  {
   "cell_type": "code",
   "execution_count": null,
   "metadata": {
    "collapsed": true
   },
   "outputs": [],
   "source": [
    "df = unpickle_object(\"dummied_dataset.pkl\")"
   ]
  },
  {
   "cell_type": "code",
   "execution_count": null,
   "metadata": {},
   "outputs": [],
   "source": [
    "df.shape"
   ]
  },
  {
   "cell_type": "code",
   "execution_count": null,
   "metadata": {
    "collapsed": true
   },
   "outputs": [],
   "source": [
    "#this logic will be important for flask data entry.\n",
    "\n",
    "float_columns = df.select_dtypes(include=['float64']).columns\n",
    "\n",
    "for col in float_columns:\n",
    "    if \"mths\" not in col:\n",
    "        df[col].fillna(df[col].median(), inplace=True)\n",
    "    else:\n",
    "        if col == \"inq_last_6mths\":\n",
    "            df[col].fillna(0, inplace=True)\n",
    "        elif col == \"mths_since_last_delinq\":\n",
    "            df[col].fillna(999, inplace=True)\n",
    "        elif col == \"mths_since_last_record\":\n",
    "            df[col].fillna(999, inplace=True)\n",
    "        elif col == \"collections_12_mths_ex_med\":\n",
    "            df[col].fillna(0, inplace=True)\n",
    "        elif col == \"mths_since_last_major_derog\":\n",
    "            df[col].fillna(999, inplace=True)\n",
    "        elif col == \"mths_since_rcnt_il\":\n",
    "            df[col].fillna(999, inplace=True)\n",
    "        elif col == \"acc_open_past_24mths\":\n",
    "            df[col].fillna(0, inplace=True)\n",
    "        elif col == \"chargeoff_within_12_mths\":\n",
    "            df[col].fillna(0, inplace=True)\n",
    "        elif col == \"mths_since_recent_bc\":\n",
    "            df[col].fillna(999, inplace=True)\n",
    "        elif col == \"mths_since_recent_bc_dlq\":\n",
    "            df[col].fillna(999, inplace=True)\n",
    "        elif col == \"mths_since_recent_inq\":\n",
    "            df[col].fillna(999, inplace=True)\n",
    "        elif col == \"mths_since_recent_revol_delinq\":\n",
    "            df[col].fillna(999, inplace=True)"
   ]
  },
  {
   "cell_type": "code",
   "execution_count": null,
   "metadata": {
    "collapsed": true
   },
   "outputs": [],
   "source": [
    "top_35 = [\"int_rate\", \n",
    "          \"dti\", \n",
    "          \"term_ 60 months\",\n",
    "          \"bc_open_to_buy\",\n",
    "          \"revol_util\",\n",
    "          \"installment\",\n",
    "          \"avg_cur_bal\",\n",
    "          \"tot_hi_cred_lim\",\n",
    "          \"revol_bal\",\n",
    "          \"funded_amnt_inv\",\n",
    "          \"bc_util\",\n",
    "          \"tot_cur_bal\",\n",
    "          \"total_bc_limit\",\n",
    "          \"total_rev_hi_lim\",\n",
    "          \"funded_amnt\",\n",
    "          \"loan_amnt\",\n",
    "          \"mo_sin_old_rev_tl_op\",\n",
    "          \"total_bal_ex_mort\",\n",
    "          \"issue_d_Dec-2016\",\n",
    "          \"total_acc\",\n",
    "          \"mo_sin_old_il_acct\",\n",
    "          \"mths_since_recent_bc\",\n",
    "          \"total_il_high_credit_limit\",\n",
    "          \"inq_last_6mths\",\n",
    "          \"acc_open_past_24mths\",\n",
    "          \"mo_sin_rcnt_tl\",\n",
    "          \"mo_sin_rcnt_rev_tl_op\",\n",
    "          \"percent_bc_gt_75\",\n",
    "          \"num_rev_accts\",\n",
    "          \"mths_since_last_delinq\",\n",
    "          \"open_acc\",\n",
    "          \"mths_since_recent_inq\",\n",
    "          \"grade_B\",\n",
    "          \"num_bc_tl\",\n",
    "          \"loan_status_Late\"]"
   ]
  },
  {
   "cell_type": "code",
   "execution_count": null,
   "metadata": {
    "collapsed": true
   },
   "outputs": [],
   "source": [
    "df_reduced_features = df.loc[:, top_35]"
   ]
  },
  {
   "cell_type": "code",
   "execution_count": null,
   "metadata": {},
   "outputs": [],
   "source": [
    "df_reduced_features.shape"
   ]
  },
  {
   "cell_type": "code",
   "execution_count": null,
   "metadata": {
    "collapsed": true
   },
   "outputs": [],
   "source": [
    "scaler = StandardScaler()\n",
    "matrix_df = df_reduced_features.as_matrix()\n",
    "matrix = scaler.fit_transform(matrix_df)\n",
    "scaled_df = pd.DataFrame(matrix, columns=df_reduced_features.columns)"
   ]
  },
  {
   "cell_type": "code",
   "execution_count": null,
   "metadata": {
    "collapsed": true
   },
   "outputs": [],
   "source": [
    "scaler = StandardScaler()\n",
    "matrix_df = df_reduced_features.as_matrix()\n",
    "scalar_object_35 = scaler.fit(matrix_df)\n",
    "matrix = scalar_object_35.transform(matrix_df)\n",
    "scaled_df_35 = pd.DataFrame(matrix, columns=df_reduced_features.columns)"
   ]
  },
  {
   "cell_type": "code",
   "execution_count": null,
   "metadata": {
    "collapsed": true
   },
   "outputs": [],
   "source": [
    "check = scaled_df_35 == scaled_df # lets pickle the scaler"
   ]
  },
  {
   "cell_type": "code",
   "execution_count": null,
   "metadata": {},
   "outputs": [],
   "source": [
    "check.head()"
   ]
  },
  {
   "cell_type": "code",
   "execution_count": null,
   "metadata": {
    "collapsed": true
   },
   "outputs": [],
   "source": [
    "pickle_object(scalar_object_35, \"scaler_35_features\")"
   ]
  },
  {
   "cell_type": "code",
   "execution_count": null,
   "metadata": {
    "collapsed": true
   },
   "outputs": [],
   "source": [
    "pickle_object(scaled_df, \"rf_df_35\")"
   ]
  },
  {
   "cell_type": "code",
   "execution_count": null,
   "metadata": {},
   "outputs": [],
   "source": [
    "upload_to_bucket('rf_df_35.pkl', \"rf_df_35.pkl\",\"gabr-project-3\")"
   ]
  },
  {
   "cell_type": "code",
   "execution_count": null,
   "metadata": {},
   "outputs": [],
   "source": [
    "upload_to_bucket(\"scaler_35_features.pkl\", \"scaler_35_features.pkl\", \"gabr-project-3\")"
   ]
  },
  {
   "cell_type": "code",
   "execution_count": 2,
   "metadata": {
    "collapsed": true
   },
   "outputs": [],
   "source": [
    "df = unpickle_object(\"rf_df_35.pkl\")"
   ]
  },
  {
   "cell_type": "code",
   "execution_count": 5,
   "metadata": {
    "collapsed": true
   },
   "outputs": [],
   "source": [
    "engine = create_engine(os.environ[\"PSQL_CONN\"])"
   ]
  },
  {
   "cell_type": "code",
   "execution_count": 7,
   "metadata": {
    "collapsed": true
   },
   "outputs": [],
   "source": [
    "df.to_sql(\"dummied_dataset\", con=engine)"
   ]
  },
  {
   "cell_type": "markdown",
   "metadata": {},
   "source": [
    "BELOW WE DIRECTLY QUERY THE DATABASE BELOW: Nothing has to be held in memory again!"
   ]
  },
  {
   "cell_type": "code",
   "execution_count": 10,
   "metadata": {},
   "outputs": [
    {
     "data": {
      "text/html": [
       "<div>\n",
       "<style>\n",
       "    .dataframe thead tr:only-child th {\n",
       "        text-align: right;\n",
       "    }\n",
       "\n",
       "    .dataframe thead th {\n",
       "        text-align: left;\n",
       "    }\n",
       "\n",
       "    .dataframe tbody tr th {\n",
       "        vertical-align: top;\n",
       "    }\n",
       "</style>\n",
       "<table border=\"1\" class=\"dataframe\">\n",
       "  <thead>\n",
       "    <tr style=\"text-align: right;\">\n",
       "      <th></th>\n",
       "      <th>index</th>\n",
       "      <th>int_rate</th>\n",
       "      <th>dti</th>\n",
       "      <th>term_ 60 months</th>\n",
       "      <th>bc_open_to_buy</th>\n",
       "      <th>revol_util</th>\n",
       "      <th>installment</th>\n",
       "      <th>avg_cur_bal</th>\n",
       "      <th>tot_hi_cred_lim</th>\n",
       "      <th>revol_bal</th>\n",
       "      <th>funded_amnt_inv</th>\n",
       "      <th>bc_util</th>\n",
       "      <th>tot_cur_bal</th>\n",
       "      <th>total_bc_limit</th>\n",
       "      <th>total_rev_hi_lim</th>\n",
       "      <th>funded_amnt</th>\n",
       "      <th>loan_amnt</th>\n",
       "      <th>mo_sin_old_rev_tl_op</th>\n",
       "      <th>total_bal_ex_mort</th>\n",
       "      <th>issue_d_Dec-2016</th>\n",
       "      <th>total_acc</th>\n",
       "      <th>mo_sin_old_il_acct</th>\n",
       "      <th>mths_since_recent_bc</th>\n",
       "      <th>total_il_high_credit_limit</th>\n",
       "      <th>inq_last_6mths</th>\n",
       "      <th>acc_open_past_24mths</th>\n",
       "      <th>mo_sin_rcnt_tl</th>\n",
       "      <th>mo_sin_rcnt_rev_tl_op</th>\n",
       "      <th>percent_bc_gt_75</th>\n",
       "      <th>num_rev_accts</th>\n",
       "      <th>mths_since_last_delinq</th>\n",
       "      <th>open_acc</th>\n",
       "      <th>mths_since_recent_inq</th>\n",
       "      <th>grade_B</th>\n",
       "      <th>num_bc_tl</th>\n",
       "      <th>loan_status_Late</th>\n",
       "    </tr>\n",
       "  </thead>\n",
       "  <tbody>\n",
       "    <tr>\n",
       "      <th>0</th>\n",
       "      <td>0</td>\n",
       "      <td>-0.691239</td>\n",
       "      <td>0.316533</td>\n",
       "      <td>-0.572832</td>\n",
       "      <td>-0.336618</td>\n",
       "      <td>1.217037</td>\n",
       "      <td>-1.076647</td>\n",
       "      <td>-0.344728</td>\n",
       "      <td>-0.323194</td>\n",
       "      <td>-0.107344</td>\n",
       "      <td>-1.088801</td>\n",
       "      <td>0.149284</td>\n",
       "      <td>-0.354923</td>\n",
       "      <td>-0.290113</td>\n",
       "      <td>-0.215951</td>\n",
       "      <td>-1.095558</td>\n",
       "      <td>-1.096804</td>\n",
       "      <td>-0.173567</td>\n",
       "      <td>-0.242634</td>\n",
       "      <td>-0.113402</td>\n",
       "      <td>-1.373327</td>\n",
       "      <td>0.046177</td>\n",
       "      <td>2.9681</td>\n",
       "      <td>-0.221848</td>\n",
       "      <td>0.195522</td>\n",
       "      <td>-1.305392</td>\n",
       "      <td>-0.292118</td>\n",
       "      <td>-0.277218</td>\n",
       "      <td>0.028544</td>\n",
       "      <td>-0.135032</td>\n",
       "      <td>0.951804</td>\n",
       "      <td>-1.611450</td>\n",
       "      <td>2.180953</td>\n",
       "      <td>1.584982</td>\n",
       "      <td>-0.114309</td>\n",
       "      <td>-0.598253</td>\n",
       "    </tr>\n",
       "    <tr>\n",
       "      <th>1</th>\n",
       "      <td>1</td>\n",
       "      <td>0.332064</td>\n",
       "      <td>-0.526679</td>\n",
       "      <td>1.745714</td>\n",
       "      <td>-0.336618</td>\n",
       "      <td>-1.824751</td>\n",
       "      <td>-1.484993</td>\n",
       "      <td>-0.344728</td>\n",
       "      <td>-0.323194</td>\n",
       "      <td>-0.669430</td>\n",
       "      <td>-1.382859</td>\n",
       "      <td>0.149284</td>\n",
       "      <td>-0.354923</td>\n",
       "      <td>-0.290113</td>\n",
       "      <td>-0.215951</td>\n",
       "      <td>-1.393251</td>\n",
       "      <td>-1.394124</td>\n",
       "      <td>-0.173567</td>\n",
       "      <td>-0.242634</td>\n",
       "      <td>-0.113402</td>\n",
       "      <td>-1.792454</td>\n",
       "      <td>0.046177</td>\n",
       "      <td>2.9681</td>\n",
       "      <td>-0.221848</td>\n",
       "      <td>3.933241</td>\n",
       "      <td>-1.305392</td>\n",
       "      <td>-0.292118</td>\n",
       "      <td>-0.277218</td>\n",
       "      <td>0.028544</td>\n",
       "      <td>-0.135032</td>\n",
       "      <td>0.951804</td>\n",
       "      <td>-1.611450</td>\n",
       "      <td>2.180953</td>\n",
       "      <td>-0.630922</td>\n",
       "      <td>-0.114309</td>\n",
       "      <td>1.671534</td>\n",
       "    </tr>\n",
       "    <tr>\n",
       "      <th>2</th>\n",
       "      <td>2</td>\n",
       "      <td>0.484895</td>\n",
       "      <td>-0.282416</td>\n",
       "      <td>-0.572832</td>\n",
       "      <td>-0.336618</td>\n",
       "      <td>1.822939</td>\n",
       "      <td>-1.387900</td>\n",
       "      <td>-0.344728</td>\n",
       "      <td>-0.323194</td>\n",
       "      <td>-0.609796</td>\n",
       "      <td>-1.394741</td>\n",
       "      <td>0.149284</td>\n",
       "      <td>-0.354923</td>\n",
       "      <td>-0.290113</td>\n",
       "      <td>-0.215951</td>\n",
       "      <td>-1.405159</td>\n",
       "      <td>-1.406017</td>\n",
       "      <td>-0.173567</td>\n",
       "      <td>-0.242634</td>\n",
       "      <td>-0.113402</td>\n",
       "      <td>-1.289501</td>\n",
       "      <td>0.046177</td>\n",
       "      <td>2.9681</td>\n",
       "      <td>-0.221848</td>\n",
       "      <td>1.129952</td>\n",
       "      <td>-1.305392</td>\n",
       "      <td>-0.292118</td>\n",
       "      <td>-0.277218</td>\n",
       "      <td>0.028544</td>\n",
       "      <td>-0.135032</td>\n",
       "      <td>0.951804</td>\n",
       "      <td>-1.804259</td>\n",
       "      <td>2.180953</td>\n",
       "      <td>-0.630922</td>\n",
       "      <td>-0.114309</td>\n",
       "      <td>-0.598253</td>\n",
       "    </tr>\n",
       "    <tr>\n",
       "      <th>3</th>\n",
       "      <td>3</td>\n",
       "      <td>-0.062196</td>\n",
       "      <td>0.074485</td>\n",
       "      <td>-0.572832</td>\n",
       "      <td>-0.336618</td>\n",
       "      <td>-1.349855</td>\n",
       "      <td>-0.377418</td>\n",
       "      <td>-0.344728</td>\n",
       "      <td>-0.323194</td>\n",
       "      <td>-0.485640</td>\n",
       "      <td>-0.491774</td>\n",
       "      <td>0.149284</td>\n",
       "      <td>-0.354923</td>\n",
       "      <td>-0.290113</td>\n",
       "      <td>-0.215951</td>\n",
       "      <td>-0.500173</td>\n",
       "      <td>-0.502163</td>\n",
       "      <td>-0.173567</td>\n",
       "      <td>-0.242634</td>\n",
       "      <td>-0.113402</td>\n",
       "      <td>0.973787</td>\n",
       "      <td>0.046177</td>\n",
       "      <td>2.9681</td>\n",
       "      <td>-0.221848</td>\n",
       "      <td>0.195522</td>\n",
       "      <td>-1.305392</td>\n",
       "      <td>-0.292118</td>\n",
       "      <td>-0.277218</td>\n",
       "      <td>0.028544</td>\n",
       "      <td>-0.135032</td>\n",
       "      <td>-1.048563</td>\n",
       "      <td>-0.261787</td>\n",
       "      <td>2.180953</td>\n",
       "      <td>-0.630922</td>\n",
       "      <td>-0.114309</td>\n",
       "      <td>-0.598253</td>\n",
       "    </tr>\n",
       "    <tr>\n",
       "      <th>4</th>\n",
       "      <td>4</td>\n",
       "      <td>-0.239391</td>\n",
       "      <td>0.009306</td>\n",
       "      <td>1.745714</td>\n",
       "      <td>-0.336618</td>\n",
       "      <td>-0.002953</td>\n",
       "      <td>-1.453448</td>\n",
       "      <td>-0.344728</td>\n",
       "      <td>-0.323194</td>\n",
       "      <td>0.556906</td>\n",
       "      <td>-1.323454</td>\n",
       "      <td>0.149284</td>\n",
       "      <td>-0.354923</td>\n",
       "      <td>-0.290113</td>\n",
       "      <td>-0.215951</td>\n",
       "      <td>-1.333712</td>\n",
       "      <td>-1.334660</td>\n",
       "      <td>-0.173567</td>\n",
       "      <td>-0.242634</td>\n",
       "      <td>-0.113402</td>\n",
       "      <td>1.057612</td>\n",
       "      <td>0.046177</td>\n",
       "      <td>2.9681</td>\n",
       "      <td>-0.221848</td>\n",
       "      <td>-0.738908</td>\n",
       "      <td>-1.305392</td>\n",
       "      <td>-0.292118</td>\n",
       "      <td>-0.277218</td>\n",
       "      <td>0.028544</td>\n",
       "      <td>-0.135032</td>\n",
       "      <td>-1.042337</td>\n",
       "      <td>0.702258</td>\n",
       "      <td>2.180953</td>\n",
       "      <td>1.584982</td>\n",
       "      <td>-0.114309</td>\n",
       "      <td>-0.598253</td>\n",
       "    </tr>\n",
       "  </tbody>\n",
       "</table>\n",
       "</div>"
      ],
      "text/plain": [
       "   index  int_rate       dti  term_ 60 months  bc_open_to_buy  revol_util  \\\n",
       "0      0 -0.691239  0.316533        -0.572832       -0.336618    1.217037   \n",
       "1      1  0.332064 -0.526679         1.745714       -0.336618   -1.824751   \n",
       "2      2  0.484895 -0.282416        -0.572832       -0.336618    1.822939   \n",
       "3      3 -0.062196  0.074485        -0.572832       -0.336618   -1.349855   \n",
       "4      4 -0.239391  0.009306         1.745714       -0.336618   -0.002953   \n",
       "\n",
       "   installment  avg_cur_bal  tot_hi_cred_lim  revol_bal  funded_amnt_inv  \\\n",
       "0    -1.076647    -0.344728        -0.323194  -0.107344        -1.088801   \n",
       "1    -1.484993    -0.344728        -0.323194  -0.669430        -1.382859   \n",
       "2    -1.387900    -0.344728        -0.323194  -0.609796        -1.394741   \n",
       "3    -0.377418    -0.344728        -0.323194  -0.485640        -0.491774   \n",
       "4    -1.453448    -0.344728        -0.323194   0.556906        -1.323454   \n",
       "\n",
       "    bc_util  tot_cur_bal  total_bc_limit  total_rev_hi_lim  funded_amnt  \\\n",
       "0  0.149284    -0.354923       -0.290113         -0.215951    -1.095558   \n",
       "1  0.149284    -0.354923       -0.290113         -0.215951    -1.393251   \n",
       "2  0.149284    -0.354923       -0.290113         -0.215951    -1.405159   \n",
       "3  0.149284    -0.354923       -0.290113         -0.215951    -0.500173   \n",
       "4  0.149284    -0.354923       -0.290113         -0.215951    -1.333712   \n",
       "\n",
       "   loan_amnt  mo_sin_old_rev_tl_op  total_bal_ex_mort  issue_d_Dec-2016  \\\n",
       "0  -1.096804             -0.173567          -0.242634         -0.113402   \n",
       "1  -1.394124             -0.173567          -0.242634         -0.113402   \n",
       "2  -1.406017             -0.173567          -0.242634         -0.113402   \n",
       "3  -0.502163             -0.173567          -0.242634         -0.113402   \n",
       "4  -1.334660             -0.173567          -0.242634         -0.113402   \n",
       "\n",
       "   total_acc  mo_sin_old_il_acct  mths_since_recent_bc  \\\n",
       "0  -1.373327            0.046177                2.9681   \n",
       "1  -1.792454            0.046177                2.9681   \n",
       "2  -1.289501            0.046177                2.9681   \n",
       "3   0.973787            0.046177                2.9681   \n",
       "4   1.057612            0.046177                2.9681   \n",
       "\n",
       "   total_il_high_credit_limit  inq_last_6mths  acc_open_past_24mths  \\\n",
       "0                   -0.221848        0.195522             -1.305392   \n",
       "1                   -0.221848        3.933241             -1.305392   \n",
       "2                   -0.221848        1.129952             -1.305392   \n",
       "3                   -0.221848        0.195522             -1.305392   \n",
       "4                   -0.221848       -0.738908             -1.305392   \n",
       "\n",
       "   mo_sin_rcnt_tl  mo_sin_rcnt_rev_tl_op  percent_bc_gt_75  num_rev_accts  \\\n",
       "0       -0.292118              -0.277218          0.028544      -0.135032   \n",
       "1       -0.292118              -0.277218          0.028544      -0.135032   \n",
       "2       -0.292118              -0.277218          0.028544      -0.135032   \n",
       "3       -0.292118              -0.277218          0.028544      -0.135032   \n",
       "4       -0.292118              -0.277218          0.028544      -0.135032   \n",
       "\n",
       "   mths_since_last_delinq  open_acc  mths_since_recent_inq   grade_B  \\\n",
       "0                0.951804 -1.611450               2.180953  1.584982   \n",
       "1                0.951804 -1.611450               2.180953 -0.630922   \n",
       "2                0.951804 -1.804259               2.180953 -0.630922   \n",
       "3               -1.048563 -0.261787               2.180953 -0.630922   \n",
       "4               -1.042337  0.702258               2.180953  1.584982   \n",
       "\n",
       "   num_bc_tl  loan_status_Late  \n",
       "0  -0.114309         -0.598253  \n",
       "1  -0.114309          1.671534  \n",
       "2  -0.114309         -0.598253  \n",
       "3  -0.114309         -0.598253  \n",
       "4  -0.114309         -0.598253  "
      ]
     },
     "execution_count": 10,
     "metadata": {},
     "output_type": "execute_result"
    }
   ],
   "source": [
    "pd.read_sql_query('''SELECT * FROM dummied_dataset LIMIT 5''', engine)"
   ]
  },
  {
   "cell_type": "code",
   "execution_count": null,
   "metadata": {
    "collapsed": true
   },
   "outputs": [],
   "source": []
  }
 ],
 "metadata": {
  "kernelspec": {
   "display_name": "Python 3",
   "language": "python",
   "name": "python3"
  },
  "language_info": {
   "codemirror_mode": {
    "name": "ipython",
    "version": 3
   },
   "file_extension": ".py",
   "mimetype": "text/x-python",
   "name": "python",
   "nbconvert_exporter": "python",
   "pygments_lexer": "ipython3",
   "version": "3.5.2"
  }
 },
 "nbformat": 4,
 "nbformat_minor": 2
}
