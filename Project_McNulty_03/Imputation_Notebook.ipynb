{
 "cells": [
  {
   "cell_type": "code",
   "execution_count": 1,
   "metadata": {
    "collapsed": true
   },
   "outputs": [],
   "source": [
    "%matplotlib inline\n",
    "import pickle\n",
    "%run helper_loans.py\n",
    "pd.options.display.max_columns = 1000\n",
    "plt.rcParams[\"figure.figsize\"] = (15,10)\n",
    "from datetime import datetime\n",
    "\n",
    "from sklearn.ensemble import RandomForestClassifier\n",
    "from sklearn.model_selection import train_test_split\n",
    "from sklearn.dummy import DummyClassifier\n",
    "from sklearn.preprocessing import StandardScaler"
   ]
  },
  {
   "cell_type": "code",
   "execution_count": 2,
   "metadata": {
    "collapsed": true
   },
   "outputs": [],
   "source": [
    "df = unpickle_object(\"dummied_dataset.pkl\")"
   ]
  },
  {
   "cell_type": "code",
   "execution_count": 3,
   "metadata": {},
   "outputs": [
    {
     "data": {
      "text/plain": [
       "(538008, 1926)"
      ]
     },
     "execution_count": 3,
     "metadata": {},
     "output_type": "execute_result"
    }
   ],
   "source": [
    "df.shape"
   ]
  },
  {
   "cell_type": "markdown",
   "metadata": {},
   "source": [
    "I only have 23 completely clean rows in my dataframe. As such, fancier imputation methods like, using a Random Forest are out of the questions.\n",
    "\n",
    "I will have to use human logic to figure out how to best impute all of my features of type `float64`.\n",
    "\n",
    "Since I am dealing with financial data - I will impute with regards to the median.\n",
    "\n",
    "For those columns that relate to the months since something occured, I will impute based on human logic of the category.\n",
    "\n",
    ">**Example:**\n",
    "\n",
    ">Months since last deliquency, if NaN, then I will assume the individual has never been deliquent, thus I wil assign a value of 999.\n",
    "\n",
    ">If Number of charge-offs within 12 months is NaN - I will assume this individual has never had a charged off loan in the last year, thus I will impute with 0."
   ]
  },
  {
   "cell_type": "code",
   "execution_count": 4,
   "metadata": {
    "collapsed": true,
    "scrolled": false
   },
   "outputs": [],
   "source": [
    "#this logic will be important for flask data entry.\n",
    "\n",
    "float_columns = df.select_dtypes(include=['float64']).columns\n",
    "\n",
    "for col in float_columns:\n",
    "    if \"mths\" not in col:\n",
    "        df[col].fillna(df[col].median(), inplace=True)\n",
    "    else:\n",
    "        if col == \"inq_last_6mths\":\n",
    "            df[col].fillna(0, inplace=True)\n",
    "        elif col == \"mths_since_last_delinq\":\n",
    "            df[col].fillna(999, inplace=True)\n",
    "        elif col == \"mths_since_last_record\":\n",
    "            df[col].fillna(999, inplace=True)\n",
    "        elif col == \"collections_12_mths_ex_med\":\n",
    "            df[col].fillna(0, inplace=True)\n",
    "        elif col == \"mths_since_last_major_derog\":\n",
    "            df[col].fillna(999, inplace=True)\n",
    "        elif col == \"mths_since_rcnt_il\":\n",
    "            df[col].fillna(999, inplace=True)\n",
    "        elif col == \"acc_open_past_24mths\":\n",
    "            df[col].fillna(0, inplace=True)\n",
    "        elif col == \"chargeoff_within_12_mths\":\n",
    "            df[col].fillna(0, inplace=True)\n",
    "        elif col == \"mths_since_recent_bc\":\n",
    "            df[col].fillna(999, inplace=True)\n",
    "        elif col == \"mths_since_recent_bc_dlq\":\n",
    "            df[col].fillna(999, inplace=True)\n",
    "        elif col == \"mths_since_recent_inq\":\n",
    "            df[col].fillna(999, inplace=True)\n",
    "        elif col == \"mths_since_recent_revol_delinq\":\n",
    "            df[col].fillna(999, inplace=True)"
   ]
  },
  {
   "cell_type": "code",
   "execution_count": null,
   "metadata": {
    "collapsed": true
   },
   "outputs": [],
   "source": [
    "scaler = StandardScaler()\n",
    "matrix_df = df.as_matrix()\n",
    "matrix = scaler.fit_transform(matrix_df)\n",
    "scaled_df = pd.DataFrame(matrix, columns=df.columns)"
   ]
  },
  {
   "cell_type": "code",
   "execution_count": null,
   "metadata": {
    "collapsed": true
   },
   "outputs": [],
   "source": [
    "scaled_df.shape"
   ]
  },
  {
   "cell_type": "code",
   "execution_count": 5,
   "metadata": {
    "collapsed": true
   },
   "outputs": [],
   "source": [
    "pickle_object(df, \"CLASSIFICATION DF\")"
   ]
  },
  {
   "cell_type": "code",
   "execution_count": null,
   "metadata": {
    "collapsed": true
   },
   "outputs": [],
   "source": [
    "pickle_object(scaled_df, \"GLM DATAFRAME\")"
   ]
  },
  {
   "cell_type": "code",
   "execution_count": null,
   "metadata": {
    "collapsed": true
   },
   "outputs": [],
   "source": [
    "#legacy code - how I would implement a random forest imputation\n",
    "\n",
    "# good_features = df[df['mths_since_last_record'].notnull()]\n",
    "# good_values = good_features.drop(['mths_since_last_record', 'loan_status_Late'], axis=1).values\n",
    "# good_indicies = good_features.index\n",
    "# good_target = df.loc[good_indicies, :]['mths_since_last_record'].values\n",
    "# to_predict_array = df[df['mths_since_last_record'].isnull()].drop(['mths_since_last_record', 'loan_status_Late'], axis=1).values\n",
    "# to_prediact_index = df[df['mths_since_last_record'].isnull()].index\n",
    "\n",
    "# model = RandomForestClassifier(n_estimators=25,criterion='entropy', n_jobs=-1)\n",
    "\n",
    "# model.fit(good_values, good_target)\n",
    "\n",
    "# impute_values = model.predict(to_predict_array)\n",
    "\n",
    "# # df.loc[to_predict_index, 'mths_since_last_record'] = impute_values"
   ]
  },
  {
   "cell_type": "code",
   "execution_count": null,
   "metadata": {
    "collapsed": true
   },
   "outputs": [],
   "source": []
  }
 ],
 "metadata": {
  "kernelspec": {
   "display_name": "Python 3",
   "language": "python",
   "name": "python3"
  },
  "language_info": {
   "codemirror_mode": {
    "name": "ipython",
    "version": 3
   },
   "file_extension": ".py",
   "mimetype": "text/x-python",
   "name": "python",
   "nbconvert_exporter": "python",
   "pygments_lexer": "ipython3",
   "version": "3.5.2"
  }
 },
 "nbformat": 4,
 "nbformat_minor": 2
}
