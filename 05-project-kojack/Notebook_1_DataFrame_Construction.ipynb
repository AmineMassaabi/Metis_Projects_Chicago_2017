{
 "cells": [
  {
   "cell_type": "markdown",
   "metadata": {},
   "source": [
    "## Notebook 1\n",
    "\n",
    "This notebook contains code used to construct the dataframe that contains our raw data."
   ]
  },
  {
   "cell_type": "code",
   "execution_count": 1,
   "metadata": {
    "collapsed": true
   },
   "outputs": [],
   "source": [
    "import pandas as pd\n",
    "import arrow # way better than datetime\n",
    "import numpy as np\n",
    "import random\n",
    "import re\n",
    "%run helper_functions.py"
   ]
  },
  {
   "cell_type": "markdown",
   "metadata": {},
   "source": [
    "Above, I used the arrow library instead of datetime. In my opinion, Arrow overcomes a lot of the shortfalls and syntactic complexity of the datetime library!\n",
    "\n",
    "Here is the documentation: https://arrow.readthedocs.io/en/latest/"
   ]
  },
  {
   "cell_type": "code",
   "execution_count": 2,
   "metadata": {
    "collapsed": true,
    "scrolled": true
   },
   "outputs": [],
   "source": [
    "df = pd.read_csv(\"tweets_formatted.txt\", sep=\"| |\", header=None)"
   ]
  },
  {
   "cell_type": "code",
   "execution_count": 3,
   "metadata": {},
   "outputs": [
    {
     "data": {
      "text/plain": [
       "(1049878, 1)"
      ]
     },
     "execution_count": 3,
     "metadata": {},
     "output_type": "execute_result"
    }
   ],
   "source": [
    "df.shape"
   ]
  },
  {
   "cell_type": "code",
   "execution_count": 4,
   "metadata": {
    "collapsed": true
   },
   "outputs": [],
   "source": [
    "list_of_dicts = []\n",
    "for i in range(df.shape[0]):\n",
    "    temp_dict = {}\n",
    "    temp_lst = df.iloc[i,0].split(\"||\")\n",
    "    \n",
    "    temp_dict['handle'] = temp_lst[0]\n",
    "    temp_dict['tweet'] = temp_lst[1]\n",
    "    \n",
    "    try: #sometimes the date/time is missing - we will have to infer\n",
    "        temp_dict['date'] = arrow.get(temp_lst[2]).date()\n",
    "    except:\n",
    "        temp_dict['date'] = np.nan\n",
    "    try:  \n",
    "        temp_dict['time'] = arrow.get(temp_lst[2]).time()\n",
    "    except:\n",
    "        temp_dict['time'] = np.nan\n",
    "    \n",
    "    list_of_dicts.append(temp_dict)\n",
    "    \n",
    "    "
   ]
  },
  {
   "cell_type": "code",
   "execution_count": 5,
   "metadata": {},
   "outputs": [
    {
     "data": {
      "text/plain": [
       "dict_keys(['handle', 'tweet', 'date', 'time'])"
      ]
     },
     "execution_count": 5,
     "metadata": {},
     "output_type": "execute_result"
    }
   ],
   "source": [
    "list_of_dicts[0].keys()"
   ]
  },
  {
   "cell_type": "code",
   "execution_count": 6,
   "metadata": {
    "collapsed": true
   },
   "outputs": [],
   "source": [
    "new_df = pd.DataFrame(list_of_dicts) #magic!"
   ]
  },
  {
   "cell_type": "code",
   "execution_count": 7,
   "metadata": {},
   "outputs": [
    {
     "data": {
      "text/html": [
       "<div>\n",
       "<style>\n",
       "    .dataframe thead tr:only-child th {\n",
       "        text-align: right;\n",
       "    }\n",
       "\n",
       "    .dataframe thead th {\n",
       "        text-align: left;\n",
       "    }\n",
       "\n",
       "    .dataframe tbody tr th {\n",
       "        vertical-align: top;\n",
       "    }\n",
       "</style>\n",
       "<table border=\"1\" class=\"dataframe\">\n",
       "  <thead>\n",
       "    <tr style=\"text-align: right;\">\n",
       "      <th></th>\n",
       "      <th>date</th>\n",
       "      <th>handle</th>\n",
       "      <th>time</th>\n",
       "      <th>tweet</th>\n",
       "    </tr>\n",
       "  </thead>\n",
       "  <tbody>\n",
       "    <tr>\n",
       "      <th>0</th>\n",
       "      <td>2016-10-26</td>\n",
       "      <td>Bitcoin_City</td>\n",
       "      <td>17:52:26</td>\n",
       "      <td>#btc Hands-on with Microsoft’s Surface Studio:...</td>\n",
       "    </tr>\n",
       "    <tr>\n",
       "      <th>1</th>\n",
       "      <td>2016-10-26</td>\n",
       "      <td>Bitcoin_City</td>\n",
       "      <td>17:52:26</td>\n",
       "      <td>#btc Everything announced at Microsoft’s Windo...</td>\n",
       "    </tr>\n",
       "    <tr>\n",
       "      <th>2</th>\n",
       "      <td>2016-10-26</td>\n",
       "      <td>aesanto</td>\n",
       "      <td>17:52:26</td>\n",
       "      <td>RT @CloudExpo: Encore Presentation of #Blockch...</td>\n",
       "    </tr>\n",
       "    <tr>\n",
       "      <th>3</th>\n",
       "      <td>2016-10-26</td>\n",
       "      <td>Bitcoin_City</td>\n",
       "      <td>17:52:25</td>\n",
       "      <td>#btc Darkstore opens on-demand delivery fulfil...</td>\n",
       "    </tr>\n",
       "    <tr>\n",
       "      <th>4</th>\n",
       "      <td>2016-10-26</td>\n",
       "      <td>Bitcoin_City</td>\n",
       "      <td>17:52:25</td>\n",
       "      <td>#btc Microsoft shows off a new $99 input metho...</td>\n",
       "    </tr>\n",
       "  </tbody>\n",
       "</table>\n",
       "</div>"
      ],
      "text/plain": [
       "         date        handle      time  \\\n",
       "0  2016-10-26  Bitcoin_City  17:52:26   \n",
       "1  2016-10-26  Bitcoin_City  17:52:26   \n",
       "2  2016-10-26       aesanto  17:52:26   \n",
       "3  2016-10-26  Bitcoin_City  17:52:25   \n",
       "4  2016-10-26  Bitcoin_City  17:52:25   \n",
       "\n",
       "                                               tweet  \n",
       "0  #btc Hands-on with Microsoft’s Surface Studio:...  \n",
       "1  #btc Everything announced at Microsoft’s Windo...  \n",
       "2  RT @CloudExpo: Encore Presentation of #Blockch...  \n",
       "3  #btc Darkstore opens on-demand delivery fulfil...  \n",
       "4  #btc Microsoft shows off a new $99 input metho...  "
      ]
     },
     "execution_count": 7,
     "metadata": {},
     "output_type": "execute_result"
    }
   ],
   "source": [
    "new_df.head() #unsorted!"
   ]
  },
  {
   "cell_type": "code",
   "execution_count": 8,
   "metadata": {
    "collapsed": true
   },
   "outputs": [],
   "source": [
    "new_df.sort_values(by=['date', 'time'], ascending=False, inplace=True)\n",
    "new_df.reset_index(inplace=True)\n",
    "del new_df['index']\n",
    "pickle_object(new_df, \"new_df\")"
   ]
  },
  {
   "cell_type": "code",
   "execution_count": 9,
   "metadata": {},
   "outputs": [
    {
     "data": {
      "text/html": [
       "<div>\n",
       "<style>\n",
       "    .dataframe thead tr:only-child th {\n",
       "        text-align: right;\n",
       "    }\n",
       "\n",
       "    .dataframe thead th {\n",
       "        text-align: left;\n",
       "    }\n",
       "\n",
       "    .dataframe tbody tr th {\n",
       "        vertical-align: top;\n",
       "    }\n",
       "</style>\n",
       "<table border=\"1\" class=\"dataframe\">\n",
       "  <thead>\n",
       "    <tr style=\"text-align: right;\">\n",
       "      <th></th>\n",
       "      <th>date</th>\n",
       "      <th>handle</th>\n",
       "      <th>time</th>\n",
       "      <th>tweet</th>\n",
       "    </tr>\n",
       "  </thead>\n",
       "  <tbody>\n",
       "    <tr>\n",
       "      <th>0</th>\n",
       "      <td>2017-02-22</td>\n",
       "      <td>FoabMoab</td>\n",
       "      <td>19:35:43</td>\n",
       "      <td>RT @bitcoinagile: .1 #bitcoin BTC Straight To ...</td>\n",
       "    </tr>\n",
       "    <tr>\n",
       "      <th>1</th>\n",
       "      <td>2017-02-22</td>\n",
       "      <td>Bitcoin_Revo</td>\n",
       "      <td>19:35:39</td>\n",
       "      <td>#bitcoin “Is Like Positive Bacteria”: Russian ...</td>\n",
       "    </tr>\n",
       "    <tr>\n",
       "      <th>2</th>\n",
       "      <td>2017-02-22</td>\n",
       "      <td>alt_bit_coins</td>\n",
       "      <td>19:35:31</td>\n",
       "      <td>Volatile Bitcoin Nears Its All-Time High - Wal...</td>\n",
       "    </tr>\n",
       "    <tr>\n",
       "      <th>3</th>\n",
       "      <td>2017-02-22</td>\n",
       "      <td>Rhino3nity</td>\n",
       "      <td>19:35:26</td>\n",
       "      <td>Missed out on #bitcoin? This #cryptocurrency c...</td>\n",
       "    </tr>\n",
       "    <tr>\n",
       "      <th>4</th>\n",
       "      <td>2017-02-22</td>\n",
       "      <td>Siimple_inc</td>\n",
       "      <td>19:35:18</td>\n",
       "      <td>RT @blockchainhelpr: 5 Weak Points Of #Blockch...</td>\n",
       "    </tr>\n",
       "  </tbody>\n",
       "</table>\n",
       "</div>"
      ],
      "text/plain": [
       "         date         handle      time  \\\n",
       "0  2017-02-22       FoabMoab  19:35:43   \n",
       "1  2017-02-22   Bitcoin_Revo  19:35:39   \n",
       "2  2017-02-22  alt_bit_coins  19:35:31   \n",
       "3  2017-02-22     Rhino3nity  19:35:26   \n",
       "4  2017-02-22    Siimple_inc  19:35:18   \n",
       "\n",
       "                                               tweet  \n",
       "0  RT @bitcoinagile: .1 #bitcoin BTC Straight To ...  \n",
       "1  #bitcoin “Is Like Positive Bacteria”: Russian ...  \n",
       "2  Volatile Bitcoin Nears Its All-Time High - Wal...  \n",
       "3  Missed out on #bitcoin? This #cryptocurrency c...  \n",
       "4  RT @blockchainhelpr: 5 Weak Points Of #Blockch...  "
      ]
     },
     "execution_count": 9,
     "metadata": {},
     "output_type": "execute_result"
    }
   ],
   "source": [
    "new_df.head() #sorted first on date and then on time"
   ]
  },
  {
   "cell_type": "markdown",
   "metadata": {},
   "source": [
    "### Evidence of Duplicates\n",
    "\n",
    "It is clear that we have some duplicates. Let's first clean out the URL's."
   ]
  },
  {
   "cell_type": "code",
   "execution_count": 15,
   "metadata": {
    "collapsed": true
   },
   "outputs": [],
   "source": [
    "sample_duplicate_indicies = []\n",
    "for i in new_df.index:\n",
    "    if \"Multiplayer #Poker\" in new_df.iloc[i, 3]:\n",
    "        sample_duplicate_indicies.append(i)"
   ]
  },
  {
   "cell_type": "code",
   "execution_count": 25,
   "metadata": {},
   "outputs": [
    {
     "data": {
      "text/html": [
       "<div>\n",
       "<style>\n",
       "    .dataframe thead tr:only-child th {\n",
       "        text-align: right;\n",
       "    }\n",
       "\n",
       "    .dataframe thead th {\n",
       "        text-align: left;\n",
       "    }\n",
       "\n",
       "    .dataframe tbody tr th {\n",
       "        vertical-align: top;\n",
       "    }\n",
       "</style>\n",
       "<table border=\"1\" class=\"dataframe\">\n",
       "  <thead>\n",
       "    <tr style=\"text-align: right;\">\n",
       "      <th></th>\n",
       "      <th>date</th>\n",
       "      <th>handle</th>\n",
       "      <th>time</th>\n",
       "      <th>tweet</th>\n",
       "    </tr>\n",
       "  </thead>\n",
       "  <tbody>\n",
       "    <tr>\n",
       "      <th>1047748</th>\n",
       "      <td>NaN</td>\n",
       "      <td>FaucetGaming</td>\n",
       "      <td>NaN</td>\n",
       "      <td>Multiplayer #Poker launching tomorrow on https...</td>\n",
       "    </tr>\n",
       "    <tr>\n",
       "      <th>1047749</th>\n",
       "      <td>NaN</td>\n",
       "      <td>CryptoPromote</td>\n",
       "      <td>NaN</td>\n",
       "      <td>RT @FaucetGaming: Multiplayer #Poker launching...</td>\n",
       "    </tr>\n",
       "    <tr>\n",
       "      <th>1047750</th>\n",
       "      <td>NaN</td>\n",
       "      <td>CryptoPromote</td>\n",
       "      <td>NaN</td>\n",
       "      <td>Multiplayer #Poker launching tomorrow on https...</td>\n",
       "    </tr>\n",
       "    <tr>\n",
       "      <th>1047751</th>\n",
       "      <td>NaN</td>\n",
       "      <td>EmmaBitcoin</td>\n",
       "      <td>NaN</td>\n",
       "      <td>Multiplayer #Poker launching tomorrow on https...</td>\n",
       "    </tr>\n",
       "    <tr>\n",
       "      <th>1047752</th>\n",
       "      <td>NaN</td>\n",
       "      <td>ClaraBitcoin</td>\n",
       "      <td>NaN</td>\n",
       "      <td>Multiplayer #Poker launching tomorrow on https...</td>\n",
       "    </tr>\n",
       "    <tr>\n",
       "      <th>1047753</th>\n",
       "      <td>NaN</td>\n",
       "      <td>NickolayV7</td>\n",
       "      <td>NaN</td>\n",
       "      <td>RT @ClaraBitcoin: Multiplayer #Poker launching...</td>\n",
       "    </tr>\n",
       "    <tr>\n",
       "      <th>1047754</th>\n",
       "      <td>NaN</td>\n",
       "      <td>ehsminer</td>\n",
       "      <td>NaN</td>\n",
       "      <td>RT @CryptoPromote: Multiplayer #Poker launchin...</td>\n",
       "    </tr>\n",
       "    <tr>\n",
       "      <th>1047756</th>\n",
       "      <td>NaN</td>\n",
       "      <td>CryptoMegn</td>\n",
       "      <td>NaN</td>\n",
       "      <td>Multiplayer #Poker launching tomorrow on https...</td>\n",
       "    </tr>\n",
       "    <tr>\n",
       "      <th>1047757</th>\n",
       "      <td>NaN</td>\n",
       "      <td>LenaBitcoin</td>\n",
       "      <td>NaN</td>\n",
       "      <td>Multiplayer #Poker launching tomorrow on https...</td>\n",
       "    </tr>\n",
       "    <tr>\n",
       "      <th>1047758</th>\n",
       "      <td>NaN</td>\n",
       "      <td>StartUpRealTime</td>\n",
       "      <td>NaN</td>\n",
       "      <td>RT @LenaBitcoin: Multiplayer #Poker launching ...</td>\n",
       "    </tr>\n",
       "    <tr>\n",
       "      <th>1047759</th>\n",
       "      <td>NaN</td>\n",
       "      <td>CoinCreation</td>\n",
       "      <td>NaN</td>\n",
       "      <td>Multiplayer #Poker launching tomorrow on https...</td>\n",
       "    </tr>\n",
       "    <tr>\n",
       "      <th>1047760</th>\n",
       "      <td>NaN</td>\n",
       "      <td>MariaBitcoin</td>\n",
       "      <td>NaN</td>\n",
       "      <td>Multiplayer #Poker launching tomorrow on https...</td>\n",
       "    </tr>\n",
       "    <tr>\n",
       "      <th>1047761</th>\n",
       "      <td>NaN</td>\n",
       "      <td>CryptoWePromote</td>\n",
       "      <td>NaN</td>\n",
       "      <td>Multiplayer #Poker launching tomorrow on https...</td>\n",
       "    </tr>\n",
       "    <tr>\n",
       "      <th>1047763</th>\n",
       "      <td>NaN</td>\n",
       "      <td>NickolayV10</td>\n",
       "      <td>NaN</td>\n",
       "      <td>RT @CryptoWePromote: Multiplayer #Poker launch...</td>\n",
       "    </tr>\n",
       "  </tbody>\n",
       "</table>\n",
       "</div>"
      ],
      "text/plain": [
       "        date           handle time  \\\n",
       "1047748  NaN     FaucetGaming  NaN   \n",
       "1047749  NaN    CryptoPromote  NaN   \n",
       "1047750  NaN    CryptoPromote  NaN   \n",
       "1047751  NaN      EmmaBitcoin  NaN   \n",
       "1047752  NaN     ClaraBitcoin  NaN   \n",
       "1047753  NaN       NickolayV7  NaN   \n",
       "1047754  NaN         ehsminer  NaN   \n",
       "1047756  NaN       CryptoMegn  NaN   \n",
       "1047757  NaN      LenaBitcoin  NaN   \n",
       "1047758  NaN  StartUpRealTime  NaN   \n",
       "1047759  NaN     CoinCreation  NaN   \n",
       "1047760  NaN     MariaBitcoin  NaN   \n",
       "1047761  NaN  CryptoWePromote  NaN   \n",
       "1047763  NaN      NickolayV10  NaN   \n",
       "\n",
       "                                                     tweet  \n",
       "1047748  Multiplayer #Poker launching tomorrow on https...  \n",
       "1047749  RT @FaucetGaming: Multiplayer #Poker launching...  \n",
       "1047750  Multiplayer #Poker launching tomorrow on https...  \n",
       "1047751  Multiplayer #Poker launching tomorrow on https...  \n",
       "1047752  Multiplayer #Poker launching tomorrow on https...  \n",
       "1047753  RT @ClaraBitcoin: Multiplayer #Poker launching...  \n",
       "1047754  RT @CryptoPromote: Multiplayer #Poker launchin...  \n",
       "1047756  Multiplayer #Poker launching tomorrow on https...  \n",
       "1047757  Multiplayer #Poker launching tomorrow on https...  \n",
       "1047758  RT @LenaBitcoin: Multiplayer #Poker launching ...  \n",
       "1047759  Multiplayer #Poker launching tomorrow on https...  \n",
       "1047760  Multiplayer #Poker launching tomorrow on https...  \n",
       "1047761  Multiplayer #Poker launching tomorrow on https...  \n",
       "1047763  RT @CryptoWePromote: Multiplayer #Poker launch...  "
      ]
     },
     "execution_count": 25,
     "metadata": {},
     "output_type": "execute_result"
    }
   ],
   "source": [
    "new_df.iloc[sample_duplicate_indicies, :]"
   ]
  },
  {
   "cell_type": "markdown",
   "metadata": {
    "collapsed": true
   },
   "source": [
    "Let's remove these duplicates in a seperate notebook!"
   ]
  },
  {
   "cell_type": "code",
   "execution_count": null,
   "metadata": {
    "collapsed": true
   },
   "outputs": [],
   "source": []
  }
 ],
 "metadata": {
  "kernelspec": {
   "display_name": "Python 3",
   "language": "python",
   "name": "python3"
  },
  "language_info": {
   "codemirror_mode": {
    "name": "ipython",
    "version": 3
   },
   "file_extension": ".py",
   "mimetype": "text/x-python",
   "name": "python",
   "nbconvert_exporter": "python",
   "pygments_lexer": "ipython3",
   "version": "3.6.2"
  }
 },
 "nbformat": 4,
 "nbformat_minor": 2
}
