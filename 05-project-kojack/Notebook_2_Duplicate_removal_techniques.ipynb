{
 "cells": [
  {
   "cell_type": "markdown",
   "metadata": {},
   "source": [
    "## Notebook 2"
   ]
  },
  {
   "cell_type": "markdown",
   "metadata": {},
   "source": [
    "Our current dataset suffers from duplicate tweet's from bots, hacked accounts etc.\n",
    "\n",
    "As such, this notebook will show you how to deal with these duplicates in a manner that does not take $O(N^{2})$.\n",
    "\n",
    "Traditionally, the way to search for duplicates would be to wrte some code with nested for loops that passess over the list twice, comparing one entry to every other entry in the list. While this approach would work - it is incredibly slow for a list with a large number of elements. In our case, our list is just over 1 million elements long.\n",
    "\n",
    "Furthermore, this approach only really works when you are looking for **EXACT** duplicates. This will not do for our case as bots will re-tweet the original tweet with either a different URL link or slightly different formatting. Thus, while a human would be able to tell that the tweet is practically identical, a computer would not.\n",
    "\n",
    "One possible solution to this to use a form of fuzzy matching, that is, if two strings are similar enough to pass a threshold of, say, 0.9 **(levenstein distance)**, then we can assume they are duplicate tweets. While this is a fantastic approach, it is still $O(N^{2})$.\n",
    "\n",
    "\n",
    "In this notebook, I present a different, more nuanced approach!"
   ]
  },
  {
   "cell_type": "code",
   "execution_count": 1,
   "metadata": {
    "collapsed": true
   },
   "outputs": [],
   "source": [
    "import pandas as pd\n",
    "import arrow # way better than datetime\n",
    "import numpy as np\n",
    "import random\n",
    "import re\n",
    "%run helper_functions.py\n",
    "import string"
   ]
  },
  {
   "cell_type": "code",
   "execution_count": 2,
   "metadata": {
    "collapsed": true
   },
   "outputs": [],
   "source": [
    "new_df = unpickle_object(\"new_df.pkl\") # this loads up the dataframe from our previous notebook"
   ]
  },
  {
   "cell_type": "code",
   "execution_count": 3,
   "metadata": {},
   "outputs": [
    {
     "data": {
      "text/html": [
       "<div>\n",
       "<style>\n",
       "    .dataframe thead tr:only-child th {\n",
       "        text-align: right;\n",
       "    }\n",
       "\n",
       "    .dataframe thead th {\n",
       "        text-align: left;\n",
       "    }\n",
       "\n",
       "    .dataframe tbody tr th {\n",
       "        vertical-align: top;\n",
       "    }\n",
       "</style>\n",
       "<table border=\"1\" class=\"dataframe\">\n",
       "  <thead>\n",
       "    <tr style=\"text-align: right;\">\n",
       "      <th></th>\n",
       "      <th>date</th>\n",
       "      <th>handle</th>\n",
       "      <th>time</th>\n",
       "      <th>tweet</th>\n",
       "    </tr>\n",
       "  </thead>\n",
       "  <tbody>\n",
       "    <tr>\n",
       "      <th>0</th>\n",
       "      <td>2017-02-22</td>\n",
       "      <td>FoabMoab</td>\n",
       "      <td>19:35:43</td>\n",
       "      <td>RT @bitcoinagile: .1 #bitcoin BTC Straight To ...</td>\n",
       "    </tr>\n",
       "    <tr>\n",
       "      <th>1</th>\n",
       "      <td>2017-02-22</td>\n",
       "      <td>Bitcoin_Revo</td>\n",
       "      <td>19:35:39</td>\n",
       "      <td>#bitcoin “Is Like Positive Bacteria”: Russian ...</td>\n",
       "    </tr>\n",
       "    <tr>\n",
       "      <th>2</th>\n",
       "      <td>2017-02-22</td>\n",
       "      <td>alt_bit_coins</td>\n",
       "      <td>19:35:31</td>\n",
       "      <td>Volatile Bitcoin Nears Its All-Time High - Wal...</td>\n",
       "    </tr>\n",
       "    <tr>\n",
       "      <th>3</th>\n",
       "      <td>2017-02-22</td>\n",
       "      <td>Rhino3nity</td>\n",
       "      <td>19:35:26</td>\n",
       "      <td>Missed out on #bitcoin? This #cryptocurrency c...</td>\n",
       "    </tr>\n",
       "    <tr>\n",
       "      <th>4</th>\n",
       "      <td>2017-02-22</td>\n",
       "      <td>Siimple_inc</td>\n",
       "      <td>19:35:18</td>\n",
       "      <td>RT @blockchainhelpr: 5 Weak Points Of #Blockch...</td>\n",
       "    </tr>\n",
       "  </tbody>\n",
       "</table>\n",
       "</div>"
      ],
      "text/plain": [
       "         date         handle      time  \\\n",
       "0  2017-02-22       FoabMoab  19:35:43   \n",
       "1  2017-02-22   Bitcoin_Revo  19:35:39   \n",
       "2  2017-02-22  alt_bit_coins  19:35:31   \n",
       "3  2017-02-22     Rhino3nity  19:35:26   \n",
       "4  2017-02-22    Siimple_inc  19:35:18   \n",
       "\n",
       "                                               tweet  \n",
       "0  RT @bitcoinagile: .1 #bitcoin BTC Straight To ...  \n",
       "1  #bitcoin “Is Like Positive Bacteria”: Russian ...  \n",
       "2  Volatile Bitcoin Nears Its All-Time High - Wal...  \n",
       "3  Missed out on #bitcoin? This #cryptocurrency c...  \n",
       "4  RT @blockchainhelpr: 5 Weak Points Of #Blockch...  "
      ]
     },
     "execution_count": 3,
     "metadata": {},
     "output_type": "execute_result"
    }
   ],
   "source": [
    "new_df.head() #sorted first on date and then time!"
   ]
  },
  {
   "cell_type": "code",
   "execution_count": 4,
   "metadata": {},
   "outputs": [
    {
     "data": {
      "text/plain": [
       "'RT @bitcoinagile: .1 #bitcoin BTC Straight To Wallet USA Bitcoin Seller, Immediate Pay Out - BitCoin Gatherer https://t.co/2sslXiNHz1 https…'"
      ]
     },
     "execution_count": 4,
     "metadata": {},
     "output_type": "execute_result"
    }
   ],
   "source": [
    "new_df.iloc[0, 3]"
   ]
  },
  {
   "cell_type": "code",
   "execution_count": 5,
   "metadata": {
    "collapsed": true
   },
   "outputs": [],
   "source": [
    "#we need to remove all links in a tweet!\n",
    "regex = r\"http\\S+\"\n",
    "subset = \"\""
   ]
  },
  {
   "cell_type": "code",
   "execution_count": 6,
   "metadata": {
    "collapsed": true
   },
   "outputs": [],
   "source": [
    "removed_links = list(map(lambda x: re.sub(regex, subset, x), list(new_df['tweet'])))\n",
    "removed_links = list(map(str.strip, removed_links))\n",
    "new_df['tweet'] = removed_links"
   ]
  },
  {
   "cell_type": "code",
   "execution_count": 7,
   "metadata": {},
   "outputs": [
    {
     "data": {
      "text/plain": [
       "'RT @bitcoinagile: .1 #bitcoin BTC Straight To Wallet USA Bitcoin Seller, Immediate Pay Out - BitCoin Gatherer'"
      ]
     },
     "execution_count": 7,
     "metadata": {},
     "output_type": "execute_result"
    }
   ],
   "source": [
    "new_df.iloc[0, 3] # we can see here that the link has been removed!"
   ]
  },
  {
   "cell_type": "code",
   "execution_count": 8,
   "metadata": {},
   "outputs": [
    {
     "data": {
      "text/plain": [
       "handle                                FaucetGaming\n",
       "tweet     Multiplayer #Poker launching tomorrow on\n",
       "Name: 1047748, dtype: object"
      ]
     },
     "execution_count": 8,
     "metadata": {},
     "output_type": "execute_result"
    }
   ],
   "source": [
    "new_df.iloc[1047748, [1, 3]] #example of duplicate enttry - different handles, same tweets"
   ]
  },
  {
   "cell_type": "code",
   "execution_count": 9,
   "metadata": {},
   "outputs": [
    {
     "data": {
      "text/plain": [
       "handle                                        CryptoPromote\n",
       "tweet     RT @FaucetGaming: Multiplayer #Poker launching...\n",
       "Name: 1047749, dtype: object"
      ]
     },
     "execution_count": 9,
     "metadata": {},
     "output_type": "execute_result"
    }
   ],
   "source": [
    "new_df.iloc[1047749, [1, 3]]"
   ]
  },
  {
   "cell_type": "code",
   "execution_count": 10,
   "metadata": {},
   "outputs": [
    {
     "data": {
      "text/html": [
       "<div>\n",
       "<style>\n",
       "    .dataframe thead tr:only-child th {\n",
       "        text-align: right;\n",
       "    }\n",
       "\n",
       "    .dataframe thead th {\n",
       "        text-align: left;\n",
       "    }\n",
       "\n",
       "    .dataframe tbody tr th {\n",
       "        vertical-align: top;\n",
       "    }\n",
       "</style>\n",
       "<table border=\"1\" class=\"dataframe\">\n",
       "  <thead>\n",
       "    <tr style=\"text-align: right;\">\n",
       "      <th></th>\n",
       "      <th>handle</th>\n",
       "      <th>tweet</th>\n",
       "    </tr>\n",
       "  </thead>\n",
       "  <tbody>\n",
       "    <tr>\n",
       "      <th>1047748</th>\n",
       "      <td>FaucetGaming</td>\n",
       "      <td>Multiplayer #Poker launching tomorrow on</td>\n",
       "    </tr>\n",
       "    <tr>\n",
       "      <th>1047749</th>\n",
       "      <td>CryptoPromote</td>\n",
       "      <td>RT @FaucetGaming: Multiplayer #Poker launching...</td>\n",
       "    </tr>\n",
       "    <tr>\n",
       "      <th>1047750</th>\n",
       "      <td>CryptoPromote</td>\n",
       "      <td>Multiplayer #Poker launching tomorrow on</td>\n",
       "    </tr>\n",
       "    <tr>\n",
       "      <th>1047751</th>\n",
       "      <td>EmmaBitcoin</td>\n",
       "      <td>Multiplayer #Poker launching tomorrow on</td>\n",
       "    </tr>\n",
       "    <tr>\n",
       "      <th>1047752</th>\n",
       "      <td>ClaraBitcoin</td>\n",
       "      <td>Multiplayer #Poker launching tomorrow on</td>\n",
       "    </tr>\n",
       "    <tr>\n",
       "      <th>1047753</th>\n",
       "      <td>NickolayV7</td>\n",
       "      <td>RT @ClaraBitcoin: Multiplayer #Poker launching...</td>\n",
       "    </tr>\n",
       "    <tr>\n",
       "      <th>1047754</th>\n",
       "      <td>ehsminer</td>\n",
       "      <td>RT @CryptoPromote: Multiplayer #Poker launchin...</td>\n",
       "    </tr>\n",
       "    <tr>\n",
       "      <th>1047756</th>\n",
       "      <td>CryptoMegn</td>\n",
       "      <td>Multiplayer #Poker launching tomorrow on</td>\n",
       "    </tr>\n",
       "    <tr>\n",
       "      <th>1047757</th>\n",
       "      <td>LenaBitcoin</td>\n",
       "      <td>Multiplayer #Poker launching tomorrow on</td>\n",
       "    </tr>\n",
       "    <tr>\n",
       "      <th>1047758</th>\n",
       "      <td>StartUpRealTime</td>\n",
       "      <td>RT @LenaBitcoin: Multiplayer #Poker launching ...</td>\n",
       "    </tr>\n",
       "    <tr>\n",
       "      <th>1047759</th>\n",
       "      <td>CoinCreation</td>\n",
       "      <td>Multiplayer #Poker launching tomorrow on</td>\n",
       "    </tr>\n",
       "    <tr>\n",
       "      <th>1047760</th>\n",
       "      <td>MariaBitcoin</td>\n",
       "      <td>Multiplayer #Poker launching tomorrow on</td>\n",
       "    </tr>\n",
       "    <tr>\n",
       "      <th>1047761</th>\n",
       "      <td>CryptoWePromote</td>\n",
       "      <td>Multiplayer #Poker launching tomorrow on</td>\n",
       "    </tr>\n",
       "    <tr>\n",
       "      <th>1047763</th>\n",
       "      <td>NickolayV10</td>\n",
       "      <td>RT @CryptoWePromote: Multiplayer #Poker launch...</td>\n",
       "    </tr>\n",
       "  </tbody>\n",
       "</table>\n",
       "</div>"
      ],
      "text/plain": [
       "                  handle                                              tweet\n",
       "1047748     FaucetGaming           Multiplayer #Poker launching tomorrow on\n",
       "1047749    CryptoPromote  RT @FaucetGaming: Multiplayer #Poker launching...\n",
       "1047750    CryptoPromote           Multiplayer #Poker launching tomorrow on\n",
       "1047751      EmmaBitcoin           Multiplayer #Poker launching tomorrow on\n",
       "1047752     ClaraBitcoin           Multiplayer #Poker launching tomorrow on\n",
       "1047753       NickolayV7  RT @ClaraBitcoin: Multiplayer #Poker launching...\n",
       "1047754         ehsminer  RT @CryptoPromote: Multiplayer #Poker launchin...\n",
       "1047756       CryptoMegn           Multiplayer #Poker launching tomorrow on\n",
       "1047757      LenaBitcoin           Multiplayer #Poker launching tomorrow on\n",
       "1047758  StartUpRealTime  RT @LenaBitcoin: Multiplayer #Poker launching ...\n",
       "1047759     CoinCreation           Multiplayer #Poker launching tomorrow on\n",
       "1047760     MariaBitcoin           Multiplayer #Poker launching tomorrow on\n",
       "1047761  CryptoWePromote           Multiplayer #Poker launching tomorrow on\n",
       "1047763      NickolayV10  RT @CryptoWePromote: Multiplayer #Poker launch..."
      ]
     },
     "execution_count": 10,
     "metadata": {},
     "output_type": "execute_result"
    }
   ],
   "source": [
    "#this illustrates only one example of duplicates in the data!\n",
    "duplicate_indicies = []\n",
    "for index, value in enumerate(new_df.index):\n",
    "    if \"Multiplayer #Poker\" in new_df.iloc[value, 3]:\n",
    "        duplicate_indicies.append(index)\n",
    "        \n",
    "new_df.iloc[duplicate_indicies, [1,3]]"
   ]
  },
  {
   "cell_type": "code",
   "execution_count": 11,
   "metadata": {
    "collapsed": true
   },
   "outputs": [],
   "source": [
    "tweet_list = list(new_df['tweet']) #lets first make a list of the tweets we need to remove duplicates from"
   ]
  },
  {
   "cell_type": "code",
   "execution_count": 12,
   "metadata": {},
   "outputs": [
    {
     "data": {
      "text/plain": [
       "'!\"#$%&\\'()*+,-./:;<=>?@[\\\\]^_`{|}~'"
      ]
     },
     "execution_count": 12,
     "metadata": {},
     "output_type": "execute_result"
    }
   ],
   "source": [
    "string.punctuation"
   ]
  },
  {
   "cell_type": "code",
   "execution_count": 13,
   "metadata": {
    "collapsed": true
   },
   "outputs": [],
   "source": [
    "remove_punctuaton = '!\"$%&\\'()*+,-./:;<=>?@[\\\\]“”^_`{|}~' # same as string.punctuation, but without # - I want hashtags!"
   ]
  },
  {
   "cell_type": "code",
   "execution_count": 14,
   "metadata": {
    "collapsed": true
   },
   "outputs": [],
   "source": [
    "set_list = []\n",
    "clean_tweet_list = []\n",
    "translator = str.maketrans('', '', remove_punctuaton) #very fast punctuation remover!\n",
    "for word in tweet_list:\n",
    "    list_form = word.split() #turns the word into a list\n",
    "    \n",
    "    to_process = [x for x in list_form if not x.startswith(\"@\")] #removes handles\n",
    "    \n",
    "    to_process_2 = [x for x in to_process if not x.startswith(\"RT\")] #removed retweet indicator\n",
    "    \n",
    "    string_form = \" \".join(to_process_2) #back into a string\n",
    "    \n",
    "    set_form = set(string_form.translate(translator).strip().lower().split()) #this is the magic!\n",
    "    \n",
    "    clean_tweet_list.append(string_form.translate(translator).strip().lower())\n",
    "    \n",
    "    set_list.append(tuple(set_form)) #need to make it a tuple so it's hashable!\n",
    "\n",
    "new_df['tuple_version_tweet'] = set_list\n",
    "new_df['clean_tweet_V1'] = clean_tweet_list"
   ]
  },
  {
   "cell_type": "code",
   "execution_count": 15,
   "metadata": {},
   "outputs": [
    {
     "data": {
      "text/html": [
       "<div>\n",
       "<style>\n",
       "    .dataframe thead tr:only-child th {\n",
       "        text-align: right;\n",
       "    }\n",
       "\n",
       "    .dataframe thead th {\n",
       "        text-align: left;\n",
       "    }\n",
       "\n",
       "    .dataframe tbody tr th {\n",
       "        vertical-align: top;\n",
       "    }\n",
       "</style>\n",
       "<table border=\"1\" class=\"dataframe\">\n",
       "  <thead>\n",
       "    <tr style=\"text-align: right;\">\n",
       "      <th></th>\n",
       "      <th>date</th>\n",
       "      <th>handle</th>\n",
       "      <th>time</th>\n",
       "      <th>tweet</th>\n",
       "      <th>tuple_version_tweet</th>\n",
       "      <th>clean_tweet_V1</th>\n",
       "    </tr>\n",
       "  </thead>\n",
       "  <tbody>\n",
       "    <tr>\n",
       "      <th>0</th>\n",
       "      <td>2017-02-22</td>\n",
       "      <td>FoabMoab</td>\n",
       "      <td>19:35:43</td>\n",
       "      <td>RT @bitcoinagile: .1 #bitcoin BTC Straight To ...</td>\n",
       "      <td>(immediate, 1, to, #bitcoin, out, straight, us...</td>\n",
       "      <td>1 #bitcoin btc straight to wallet usa bitcoin ...</td>\n",
       "    </tr>\n",
       "    <tr>\n",
       "      <th>1</th>\n",
       "      <td>2017-02-22</td>\n",
       "      <td>Bitcoin_Revo</td>\n",
       "      <td>19:35:39</td>\n",
       "      <td>#bitcoin “Is Like Positive Bacteria”: Russian ...</td>\n",
       "      <td>(like, bank, #bitcoin, vice, state, russian, p...</td>\n",
       "      <td>#bitcoin is like positive bacteria russian sta...</td>\n",
       "    </tr>\n",
       "    <tr>\n",
       "      <th>2</th>\n",
       "      <td>2017-02-22</td>\n",
       "      <td>alt_bit_coins</td>\n",
       "      <td>19:35:31</td>\n",
       "      <td>Volatile Bitcoin Nears Its All-Time High - Wal...</td>\n",
       "      <td>(volatile, wall, street, subscription, blog, i...</td>\n",
       "      <td>volatile bitcoin nears its alltime high  wall ...</td>\n",
       "    </tr>\n",
       "    <tr>\n",
       "      <th>3</th>\n",
       "      <td>2017-02-22</td>\n",
       "      <td>Rhino3nity</td>\n",
       "      <td>19:35:26</td>\n",
       "      <td>Missed out on #bitcoin? This #cryptocurrency c...</td>\n",
       "      <td>(this, millionaires, over, worldwide, created,...</td>\n",
       "      <td>missed out on #bitcoin this #cryptocurrency cr...</td>\n",
       "    </tr>\n",
       "    <tr>\n",
       "      <th>4</th>\n",
       "      <td>2017-02-22</td>\n",
       "      <td>Siimple_inc</td>\n",
       "      <td>19:35:18</td>\n",
       "      <td>RT @blockchainhelpr: 5 Weak Points Of #Blockch...</td>\n",
       "      <td>(points, of, #bitcoin, technology, #tech, 5, w...</td>\n",
       "      <td>5 weak points of #blockchain technology #tech ...</td>\n",
       "    </tr>\n",
       "  </tbody>\n",
       "</table>\n",
       "</div>"
      ],
      "text/plain": [
       "         date         handle      time  \\\n",
       "0  2017-02-22       FoabMoab  19:35:43   \n",
       "1  2017-02-22   Bitcoin_Revo  19:35:39   \n",
       "2  2017-02-22  alt_bit_coins  19:35:31   \n",
       "3  2017-02-22     Rhino3nity  19:35:26   \n",
       "4  2017-02-22    Siimple_inc  19:35:18   \n",
       "\n",
       "                                               tweet  \\\n",
       "0  RT @bitcoinagile: .1 #bitcoin BTC Straight To ...   \n",
       "1  #bitcoin “Is Like Positive Bacteria”: Russian ...   \n",
       "2  Volatile Bitcoin Nears Its All-Time High - Wal...   \n",
       "3  Missed out on #bitcoin? This #cryptocurrency c...   \n",
       "4  RT @blockchainhelpr: 5 Weak Points Of #Blockch...   \n",
       "\n",
       "                                 tuple_version_tweet  \\\n",
       "0  (immediate, 1, to, #bitcoin, out, straight, us...   \n",
       "1  (like, bank, #bitcoin, vice, state, russian, p...   \n",
       "2  (volatile, wall, street, subscription, blog, i...   \n",
       "3  (this, millionaires, over, worldwide, created,...   \n",
       "4  (points, of, #bitcoin, technology, #tech, 5, w...   \n",
       "\n",
       "                                      clean_tweet_V1  \n",
       "0  1 #bitcoin btc straight to wallet usa bitcoin ...  \n",
       "1  #bitcoin is like positive bacteria russian sta...  \n",
       "2  volatile bitcoin nears its alltime high  wall ...  \n",
       "3  missed out on #bitcoin this #cryptocurrency cr...  \n",
       "4  5 weak points of #blockchain technology #tech ...  "
      ]
     },
     "execution_count": 15,
     "metadata": {},
     "output_type": "execute_result"
    }
   ],
   "source": [
    "new_df.head()"
   ]
  },
  {
   "cell_type": "code",
   "execution_count": 16,
   "metadata": {},
   "outputs": [
    {
     "data": {
      "text/plain": [
       "('multiplayer', 'on', 'launching', 'tomorrow', '#poker')"
      ]
     },
     "execution_count": 16,
     "metadata": {},
     "output_type": "execute_result"
    }
   ],
   "source": [
    "new_df.iloc[1047748, 4] # we have extracted the core text from the tweets! YAY!"
   ]
  },
  {
   "cell_type": "code",
   "execution_count": 17,
   "metadata": {},
   "outputs": [
    {
     "data": {
      "text/plain": [
       "('multiplayer', 'on', 'launching', 'tomorrow', '#poker')"
      ]
     },
     "execution_count": 17,
     "metadata": {},
     "output_type": "execute_result"
    }
   ],
   "source": [
    "new_df.iloc[1047749, 4]"
   ]
  },
  {
   "cell_type": "code",
   "execution_count": 18,
   "metadata": {},
   "outputs": [
    {
     "data": {
      "text/plain": [
       "True"
      ]
     },
     "execution_count": 18,
     "metadata": {},
     "output_type": "execute_result"
    }
   ],
   "source": [
    "new_df.iloc[1047748, 4] == new_df.iloc[1047748, 4] #this is perfect!"
   ]
  },
  {
   "cell_type": "code",
   "execution_count": 19,
   "metadata": {},
   "outputs": [
    {
     "data": {
      "text/plain": [
       "(1049878, 6)"
      ]
     },
     "execution_count": 19,
     "metadata": {},
     "output_type": "execute_result"
    }
   ],
   "source": [
    "new_df.shape #dimensions before duplicate removal!"
   ]
  },
  {
   "cell_type": "code",
   "execution_count": 20,
   "metadata": {
    "collapsed": true
   },
   "outputs": [],
   "source": [
    "test_df = new_df.drop_duplicates(subset='tuple_version_tweet', keep=\"first\") #keep the first occurence\n",
    "#otherwise drop rows that have matching tuples!"
   ]
  },
  {
   "cell_type": "markdown",
   "metadata": {},
   "source": [
    "We see from the above code, that I have removed duplicates by creating a tuple set of the words that are in the tweet after having removed the URL's, punctuation etc.\n",
    "\n",
    "This way we get to utilise the power of pandas to drop rows that contain duplicate tweets.\n",
    "\n",
    "It is important to note that this is NOT a fool proof way to drop **ALL** duplciates. However, I am confident that I will drop the majority!"
   ]
  },
  {
   "cell_type": "code",
   "execution_count": 21,
   "metadata": {},
   "outputs": [
    {
     "name": "stdout",
     "output_type": "stream",
     "text": [
      "handle                                FaucetGaming\n",
      "tweet     Multiplayer #Poker launching tomorrow on\n",
      "Name: 1047748, dtype: object\n"
     ]
    }
   ],
   "source": [
    "#lets use the example from before! - it only occurs once now!\n",
    "for index, value in enumerate(test_df.iloc[:, 3]):\n",
    "    if \"Multiplayer #Poker\" in value:\n",
    "        print(test_df.iloc[index, [1,3]])"
   ]
  },
  {
   "cell_type": "code",
   "execution_count": 22,
   "metadata": {},
   "outputs": [
    {
     "data": {
      "text/plain": [
       "(1049878, 6)"
      ]
     },
     "execution_count": 22,
     "metadata": {},
     "output_type": "execute_result"
    }
   ],
   "source": [
    "new_df.shape"
   ]
  },
  {
   "cell_type": "code",
   "execution_count": 23,
   "metadata": {},
   "outputs": [
    {
     "data": {
      "text/plain": [
       "(611980, 6)"
      ]
     },
     "execution_count": 23,
     "metadata": {},
     "output_type": "execute_result"
    }
   ],
   "source": [
    "test_df.shape"
   ]
  },
  {
   "cell_type": "code",
   "execution_count": 24,
   "metadata": {},
   "outputs": [
    {
     "data": {
      "text/plain": [
       "-41.64617222191531"
      ]
     },
     "execution_count": 24,
     "metadata": {},
     "output_type": "execute_result"
    }
   ],
   "source": [
    "((612644-1049878)/1049878)*100 #41% reduction!"
   ]
  },
  {
   "cell_type": "markdown",
   "metadata": {},
   "source": [
    "**Note:** I added a column called clean_tweet_V1. These are the tweets stripped of punctuation. These will be very useful for our NLP process later on when it comes to lemmatization."
   ]
  },
  {
   "cell_type": "code",
   "execution_count": 31,
   "metadata": {
    "collapsed": true
   },
   "outputs": [],
   "source": [
    "pickle_object(test_df, \"no_duplicates_df\")"
   ]
  },
  {
   "cell_type": "code",
   "execution_count": null,
   "metadata": {
    "collapsed": true
   },
   "outputs": [],
   "source": []
  }
 ],
 "metadata": {
  "kernelspec": {
   "display_name": "Python 3",
   "language": "python",
   "name": "python3"
  },
  "language_info": {
   "codemirror_mode": {
    "name": "ipython",
    "version": 3
   },
   "file_extension": ".py",
   "mimetype": "text/x-python",
   "name": "python",
   "nbconvert_exporter": "python",
   "pygments_lexer": "ipython3",
   "version": "3.6.2"
  }
 },
 "nbformat": 4,
 "nbformat_minor": 2
}
