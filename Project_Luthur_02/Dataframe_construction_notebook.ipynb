{
 "cells": [
  {
   "cell_type": "code",
   "execution_count": 1,
   "metadata": {},
   "outputs": [
    {
     "data": {
      "application/javascript": [
       "IPython.notebook.set_autosave_interval(120000)"
      ]
     },
     "metadata": {},
     "output_type": "display_data"
    },
    {
     "name": "stdout",
     "output_type": "stream",
     "text": [
      "Autosaving every 120 seconds\n"
     ]
    }
   ],
   "source": [
    "import pandas as pd\n",
    "import numpy as np\n",
    "import matplotlib.pyplot as plt\n",
    "import seaborn as sns\n",
    "from datetime import datetime as dt\n",
    "import re\n",
    "%matplotlib inline\n",
    "%autosave 120\n",
    "%run helper_functions.py"
   ]
  },
  {
   "cell_type": "markdown",
   "metadata": {},
   "source": [
    "This notebook contains the final bits of code that was used to clean up my data before having it ready for analysis.\n",
    "\n",
    "All commands have been commented out to avoid any data corruption/errors.\n",
    "\n",
    "Data cleaning is an incredibly important skill - in some sense, I am thankful that this project was messy as it puched me to be creative in my cleaning techniques.\n",
    "\n",
    "The entire scraping and cleaning process for the project too approximately 1 week."
   ]
  },
  {
   "cell_type": "code",
   "execution_count": 713,
   "metadata": {
    "collapsed": true
   },
   "outputs": [],
   "source": [
    "# regex_runtime = r\" minutes\"\n",
    "# subset = \"\""
   ]
  },
  {
   "cell_type": "code",
   "execution_count": 714,
   "metadata": {
    "collapsed": true
   },
   "outputs": [],
   "source": [
    "# who"
   ]
  },
  {
   "cell_type": "code",
   "execution_count": 715,
   "metadata": {
    "collapsed": true
   },
   "outputs": [],
   "source": [
    "# movie_db = unpickle_object(\"movie_database_final.pkl\")"
   ]
  },
  {
   "cell_type": "code",
   "execution_count": 716,
   "metadata": {
    "collapsed": true
   },
   "outputs": [],
   "source": [
    "# movie_df = pd.DataFrame.from_items(movie_db.items(), \n",
    "#                             orient='index', \n",
    "#                             columns=['A','B','C','D',\"E\",'F',\"G\", 'H', \"I\", \"J\", \"K\", \"L\"])"
   ]
  },
  {
   "cell_type": "code",
   "execution_count": 717,
   "metadata": {
    "collapsed": true
   },
   "outputs": [],
   "source": [
    "\n",
    "# del movie_df['F']"
   ]
  },
  {
   "cell_type": "code",
   "execution_count": 718,
   "metadata": {
    "collapsed": true
   },
   "outputs": [],
   "source": [
    "# movie_df.columns = ['Rank_in_genre', \"rotton_rating_(/10)\", \"No._of_reviews_rotton\",\"Tomato_Freshness_(%)\", \"audience_rating_(/5)\", \"Date\", \"Runtime\", \"Box_office\", \"Budget\", \"Country\",\"Language\" ]"
   ]
  },
  {
   "cell_type": "code",
   "execution_count": 719,
   "metadata": {
    "collapsed": true
   },
   "outputs": [],
   "source": [
    "# movie_df.head()"
   ]
  },
  {
   "cell_type": "markdown",
   "metadata": {},
   "source": [
    "Alright, let's do some clean up!!"
   ]
  },
  {
   "cell_type": "code",
   "execution_count": 720,
   "metadata": {
    "collapsed": true
   },
   "outputs": [],
   "source": [
    "# movie_df['Rank_in_genre'] = movie_df['Rank_in_genre'].apply(lambda x: x.strip(\".\"))\n",
    "# movie_df['Rank_in_genre'] = movie_df['Rank_in_genre'].apply(lambda x: float(x))\n",
    "# movie_df['rotton_rating_(/10)'] = movie_df['rotton_rating_(/10)'].apply(lambda x: float(x))\n",
    "# movie_df[\"No._of_reviews_rotton\"] = movie_df['No._of_reviews_rotton'].apply(lambda x: int(x))\n",
    "# movie_df['Tomato_Freshness_(%)'] = movie_df['Tomato_Freshness_(%)'].apply(lambda x: x.strip(\"%\"))\n",
    "# movie_df['Tomato_Freshness_(%)'] = movie_df['Tomato_Freshness_(%)'].apply(lambda x: float(x))\n",
    "# movie_df['audience_rating_(/5)'] = movie_df['audience_rating_(/5)'].apply(lambda x: x.strip(\"/5\"))\n",
    "# movie_df['audience_rating_(/5)'] = movie_df['audience_rating_(/5)'].apply(lambda x: float(x))\n",
    "# movie_df['Date'] = movie_df['Date'].apply(lambda x: dt.strptime(x, '%Y-%m-%d'))\n",
    "# movie_df['Month'] = movie_df[\"Date\"].apply(lambda x: x.month)\n",
    "# movie_df['Runtime'] = movie_df['Runtime'].apply(lambda x: str(x))\n",
    "# movie_df['Runtime'] = movie_df['Runtime'].apply(lambda x: x.strip())\n",
    "# movie_df['Runtime'] = movie_df['Runtime'].apply(lambda x: re.sub(regex_runtime, subset, x))\n",
    "# movie_df['Runtime'] = movie_df['Runtime'].apply(lambda x: int(x))"
   ]
  },
  {
   "cell_type": "code",
   "execution_count": 721,
   "metadata": {
    "collapsed": true
   },
   "outputs": [],
   "source": [
    "# movie_df['Box_office'].unique()"
   ]
  },
  {
   "cell_type": "code",
   "execution_count": 722,
   "metadata": {
    "collapsed": true
   },
   "outputs": [],
   "source": [
    "# movie_df['Box_office'] = movie_df['Box_office'].apply(lambda x: str(x))"
   ]
  },
  {
   "cell_type": "code",
   "execution_count": 723,
   "metadata": {
    "collapsed": true
   },
   "outputs": [],
   "source": [
    "# movie_df['Box_office'] = movie_df['Box_office'].apply(lambda x: x.strip())"
   ]
  },
  {
   "cell_type": "code",
   "execution_count": 724,
   "metadata": {
    "collapsed": true
   },
   "outputs": [],
   "source": [
    "# billions"
   ]
  },
  {
   "cell_type": "code",
   "execution_count": 725,
   "metadata": {
    "collapsed": true
   },
   "outputs": [],
   "source": [
    "# movie_df['Box_office'] = movie_df['Box_office'].apply(lambda x: x.strip(\" million\"))"
   ]
  },
  {
   "cell_type": "code",
   "execution_count": 726,
   "metadata": {
    "collapsed": true
   },
   "outputs": [],
   "source": [
    "# movie_df['Box_office'] = movie_df['Box_office'].apply(lambda x: x.strip(\"\\xa0\"))"
   ]
  },
  {
   "cell_type": "code",
   "execution_count": 727,
   "metadata": {
    "collapsed": true
   },
   "outputs": [],
   "source": [
    "# movie_df['Box_office'] = movie_df['Box_office'].apply(lambda x: x.strip(\"$\"))"
   ]
  },
  {
   "cell_type": "code",
   "execution_count": 728,
   "metadata": {
    "collapsed": true
   },
   "outputs": [],
   "source": [
    "# movie_df['Box_office'] = movie_df['Box_office'].apply(lambda x: x.strip(\" million<\"))"
   ]
  },
  {
   "cell_type": "code",
   "execution_count": 729,
   "metadata": {
    "collapsed": true
   },
   "outputs": [],
   "source": [
    "# movie_df['Box_office'] = movie_df['Box_office'].apply(lambda x: x.strip(\"¥\"))"
   ]
  },
  {
   "cell_type": "code",
   "execution_count": 730,
   "metadata": {
    "collapsed": true
   },
   "outputs": [],
   "source": [
    "# movie_df['Box_office'] = movie_df['Box_office'].apply(lambda x: x.strip(\"$\"))\n",
    "# movie_df['Box_office'] = movie_df['Box_office'].apply(lambda x: x.strip(\" b\"))\n",
    "# movie_df['Box_office'] = movie_df['Box_office'].apply(lambda x: x.strip(\"\\xa0\"))\n",
    "# movie_df['Box_office'] = movie_df['Box_office'].apply(lambda x: x.strip(\" million USD\"))\n",
    "# movie_df['Box_office'] = movie_df['Box_office'].apply(lambda x: x.strip(\"  billion\\n$159.4 million)\"))\n",
    "# movie_df['Box_office'] = movie_df['Box_office'].apply(lambda x: x.strip(\"¥\"))\n",
    "# movie_df['Box_office'] = movie_df['Box_office'].apply(lambda x: x.strip(\" billion\\n$28\"))\n",
    "# movie_df['Box_office'] = movie_df['Box_office'].apply(lambda x: x.strip(\" million<\"))\n",
    "# movie_df['Box_office'] = movie_df['Box_office'].apply(lambda x: x.strip(\".682.627.806\"))\n",
    "# movie_df['Box_office'] = movie_df['Box_office'].apply(lambda x: x.strip(\" million\\n£'\"))\n",
    "# movie_df['Box_office'] = movie_df['Box_office'].apply(lambda x: x.strip(\"million\\n\\n$\"))\n",
    "# movie_df['Box_office'] = movie_df['Box_office'].apply(lambda x: x.strip(\" billion toman (Ira\"))\n",
    "\n",
    "\n",
    "\n"
   ]
  },
  {
   "cell_type": "markdown",
   "metadata": {},
   "source": [
    "At this point, our dataframe is clean up until the box office column! Let's continue!"
   ]
  },
  {
   "cell_type": "code",
   "execution_count": 17,
   "metadata": {
    "collapsed": true
   },
   "outputs": [],
   "source": [
    "# def replacer(array,expression, change): #good helper functin to quickly replace bad formatting\n",
    "#     for index, value in enumerate(array):\n",
    "#         if expression in value:\n",
    "#             array[index] = array[index].replace(expression, change)\n",
    "        "
   ]
  },
  {
   "cell_type": "markdown",
   "metadata": {},
   "source": [
    "Country and language cleaned up! We can finally start analysis!"
   ]
  }
 ],
 "metadata": {
  "kernelspec": {
   "display_name": "Python 3",
   "language": "python",
   "name": "python3"
  },
  "language_info": {
   "codemirror_mode": {
    "name": "ipython",
    "version": 3
   },
   "file_extension": ".py",
   "mimetype": "text/x-python",
   "name": "python",
   "nbconvert_exporter": "python",
   "pygments_lexer": "ipython3",
   "version": "3.6.1"
  }
 },
 "nbformat": 4,
 "nbformat_minor": 2
}
